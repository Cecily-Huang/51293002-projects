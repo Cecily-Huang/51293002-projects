{
 "cells": [
  {
   "cell_type": "markdown",
   "metadata": {},
   "source": [
    "# 数据准备阶段"
   ]
  },
  {
   "cell_type": "code",
   "execution_count": 2,
   "metadata": {},
   "outputs": [],
   "source": [
    "# 读取airbnb.csv文件\n",
    "import csv\n",
    "\n",
    "def process_csv(filename):\n",
    "    data = None\n",
    "    with open(filename, encoding=\"utf-8\") as fh:\n",
    "        reader = csv.reader(fh)\n",
    "        data = list(reader)\n",
    "    return data\n",
    "\n",
    "# use process_csv to pull out the header and data rows\n",
    "csv_rows = process_csv(\"airbnb.csv\")\n",
    "csv_header = csv_rows[0]\n",
    "csv_data = csv_rows[1:]"
   ]
  },
  {
   "cell_type": "code",
   "execution_count": 3,
   "metadata": {},
   "outputs": [],
   "source": [
    "# 给定行索引和列名，从csv data中获取数据，如果对应的数据缺失（为空），则返回None\n",
    "def cell(row_idx, col_name):\n",
    "    col_idx = csv_header.index(col_name)\n",
    "    val = csv_data[row_idx][col_idx]\n",
    "    if val == \"\":\n",
    "        return None\n",
    "    return val"
   ]
  },
  {
   "cell_type": "markdown",
   "metadata": {},
   "source": [
    "# 开始解题"
   ]
  },
  {
   "cell_type": "markdown",
   "metadata": {},
   "source": [
    "## Q1: 在airbnb.csv文件中有多少个neighborhood groups？\n",
    "生成一个包含所有neighborhood groups的Python列表。不需要对列表中的名称排序，但是必须确保列表中的名称不重复。  \n",
    "注意：在数据集中，有些数据是没有neighborhood groups信息的，缺失的值会用None表示，请不要讲None包含在答案中。"
   ]
  },
  {
   "cell_type": "code",
   "execution_count": null,
   "metadata": {},
   "outputs": [],
   "source": []
  },
  {
   "cell_type": "markdown",
   "metadata": {},
   "source": [
    "## Q2：房间的平均价格是多少？\n",
    "注意：有些行是缺失价格的，请跳过那些没有房间价格的数据，不要将其纳入平均值计算。"
   ]
  },
  {
   "cell_type": "code",
   "execution_count": null,
   "metadata": {},
   "outputs": [],
   "source": []
  },
  {
   "cell_type": "markdown",
   "metadata": {},
   "source": [
    "## Q3：请计算neighborhood为“Chinatown”的房间数量。"
   ]
  },
  {
   "cell_type": "code",
   "execution_count": null,
   "metadata": {},
   "outputs": [],
   "source": []
  },
  {
   "cell_type": "markdown",
   "metadata": {},
   "source": [
    "## Q4：请找出房间名包含“superbowl”（忽略大小写）的所有房间名称，并将结果保存在Python list中。"
   ]
  },
  {
   "cell_type": "code",
   "execution_count": null,
   "metadata": {},
   "outputs": [],
   "source": []
  },
  {
   "cell_type": "markdown",
   "metadata": {},
   "source": [
    "## Q5：请找出房间名包含“dream room”（忽略大小写）的所有房间名称，并将结果保存在Python list中。"
   ]
  },
  {
   "cell_type": "code",
   "execution_count": null,
   "metadata": {},
   "outputs": [],
   "source": []
  },
  {
   "cell_type": "markdown",
   "metadata": {},
   "source": [
    "## Q6：请找出房间名包含“free wifi”（忽略大小写）的所有房间名称，并将结果保存在Python list中。"
   ]
  },
  {
   "cell_type": "code",
   "execution_count": null,
   "metadata": {},
   "outputs": [],
   "source": []
  },
  {
   "cell_type": "markdown",
   "metadata": {},
   "source": [
    "## Q7：请找出那些是“landeyo”的anagrams（相同字母异序词）的房主名字，并将结果保存在Python list中。  \n",
    "Anagrams指的是具有如下特性的两个单词：在这两个单词当中，每一个英文字母（不区分大小写）所出现的次数都是相同的。例如，“Unclear”和“Nuclear”、“Rimon”和“MinOR”都是Anagrams。"
   ]
  },
  {
   "cell_type": "code",
   "execution_count": null,
   "metadata": {},
   "outputs": [],
   "source": []
  },
  {
   "cell_type": "markdown",
   "metadata": {},
   "source": [
    "## Q8：请列出那些minimum nights（minimum_nights > 365）大于365的房间id，并将结果保存在Python list中。房间id用字符串类型表示。"
   ]
  },
  {
   "cell_type": "code",
   "execution_count": null,
   "metadata": {},
   "outputs": [],
   "source": []
  },
  {
   "cell_type": "markdown",
   "metadata": {},
   "source": [
    "## Q9：请列出那些拥有超过50间房间（calculated_host_listings_count > 50）的房主id，并将结果保存在Python list中。房主id用字符串类型表示，请确保答案中不包含重复的id。"
   ]
  },
  {
   "cell_type": "code",
   "execution_count": null,
   "metadata": {},
   "outputs": [],
   "source": []
  },
  {
   "cell_type": "markdown",
   "metadata": {},
   "source": [
    "## Q10：请列出在Brooklyn（neighborhood_group == \"Brooklyn\"）最便宜的房间名称，并将结果保存在Python list中。"
   ]
  },
  {
   "cell_type": "code",
   "execution_count": null,
   "metadata": {},
   "outputs": [],
   "source": []
  },
  {
   "cell_type": "markdown",
   "metadata": {},
   "source": [
    "## Q11：请列出在Manhattan（neighborhood_group == \"Manhattan\"）最便宜的房间名称，并将结果保存在Python list中。"
   ]
  },
  {
   "cell_type": "code",
   "execution_count": null,
   "metadata": {},
   "outputs": [],
   "source": []
  },
  {
   "cell_type": "markdown",
   "metadata": {},
   "source": [
    "## Q12：请计算评论次数与可用性的平均比率？（忽略availability_365为0的房间）计算结果为float类型。\n",
    "提示1：分母为房间可用性列（即：availability_365列），分子为房间的评论次数列（即：number_of_reviews列）。  \n",
    "提示2：你需要计算每个房间的评论次数与可用性的比率，然后再计算这些比率的平均值。 "
   ]
  },
  {
   "cell_type": "code",
   "execution_count": null,
   "metadata": {},
   "outputs": [],
   "source": []
  },
  {
   "cell_type": "markdown",
   "metadata": {},
   "source": [
    "## Q13：请计算在纬度为40.50和40.75之间，经度为-74.00和-73.95之间（即：40.50 <= latitude <= 40.75, -74.00 <= longitude <= -73.95）的价格最便宜的房间id，并将结果保存在Python list中。"
   ]
  },
  {
   "cell_type": "code",
   "execution_count": null,
   "metadata": {},
   "outputs": [],
   "source": []
  },
  {
   "cell_type": "markdown",
   "metadata": {},
   "source": [
    "## Q14：请计算在纬度为40.75和41.00之间，经度为-73.95和-73.85之间（即：40.75 <= latitude <= 41.00, -73.95 <= longitude <= -73.85）的价格最便宜的房间id，并将结果保存在Python list中。"
   ]
  },
  {
   "cell_type": "code",
   "execution_count": null,
   "metadata": {},
   "outputs": [],
   "source": []
  },
  {
   "cell_type": "markdown",
   "metadata": {},
   "source": [
    "## Q15：请计算评论数超过300（number_of_reviews > 300）的房间的平均价格，结果用float类型表示。"
   ]
  },
  {
   "cell_type": "code",
   "execution_count": null,
   "metadata": {},
   "outputs": [],
   "source": []
  },
  {
   "cell_type": "markdown",
   "metadata": {},
   "source": [
    "## Q16：请计算房价超过1000美元（price > 1000）的房间的平均评论数，结果用float类型表示。"
   ]
  },
  {
   "cell_type": "code",
   "execution_count": null,
   "metadata": {},
   "outputs": [],
   "source": []
  },
  {
   "cell_type": "markdown",
   "metadata": {},
   "source": [
    "## Q17：请计算房间名包含“sweet”和“home”的房间数占房间名包含“sweet”的房间数的比例，结果用float类型表示。\n",
    "提示：分母为房间名包含“sweet”的房间数，分子为房间名包含“sweet”和“home”的房间数。  "
   ]
  },
  {
   "cell_type": "code",
   "execution_count": null,
   "metadata": {},
   "outputs": [],
   "source": []
  },
  {
   "cell_type": "markdown",
   "metadata": {},
   "source": [
    "## Q18：请计算房间名包含“pool”和“gym”的房间数占房间名包含“pool”的房间数的比例，结果用float类型表示。（忽略大小写）"
   ]
  },
  {
   "cell_type": "code",
   "execution_count": null,
   "metadata": {},
   "outputs": [],
   "source": []
  },
  {
   "cell_type": "markdown",
   "metadata": {},
   "source": [
    "## Q19：请计算房间名包含“five”和“stars”的房间数占房间名包含“five”的房间数的比例，结果用float类型表示。（忽略大小写）"
   ]
  },
  {
   "cell_type": "code",
   "execution_count": null,
   "metadata": {},
   "outputs": [],
   "source": []
  },
  {
   "cell_type": "markdown",
   "metadata": {},
   "source": [
    "## Q20：请计算以下费用：在Manhattan最贵的房间住最低限制晚数（minimum_nights）之后再在Brooklyn最贵的房间住最低限制晚数（minimum_nights）。"
   ]
  },
  {
   "cell_type": "code",
   "execution_count": null,
   "metadata": {},
   "outputs": [],
   "source": []
  }
 ],
 "metadata": {
  "kernelspec": {
   "display_name": "Python 3",
   "language": "python",
   "name": "python3"
  },
  "language_info": {
   "codemirror_mode": {
    "name": "ipython",
    "version": 3
   },
   "file_extension": ".py",
   "mimetype": "text/x-python",
   "name": "python",
   "nbconvert_exporter": "python",
   "pygments_lexer": "ipython3",
   "version": "3.8.3"
  }
 },
 "nbformat": 4,
 "nbformat_minor": 4
}
